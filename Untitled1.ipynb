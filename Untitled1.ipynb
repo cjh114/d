{
  "nbformat": 4,
  "nbformat_minor": 0,
  "metadata": {
    "colab": {
      "provenance": []
    },
    "kernelspec": {
      "name": "python3",
      "display_name": "Python 3"
    },
    "language_info": {
      "name": "python"
    }
  },
  "cells": [
    {
      "cell_type": "markdown",
      "source": [
        "넘파이"
      ],
      "metadata": {
        "id": "RAmgphtNrvRU"
      }
    },
    {
      "cell_type": "code",
      "source": [
        "import numpy as np"
      ],
      "metadata": {
        "id": "9EBZdPmPd0ak"
      },
      "execution_count": 4,
      "outputs": []
    },
    {
      "cell_type": "code",
      "execution_count": 5,
      "metadata": {
        "id": "GDwF5mNFcgDx",
        "colab": {
          "base_uri": "https://localhost:8080/"
        },
        "outputId": "ef941771-de7f-43e2-e135-f973e8a1b80e"
      },
      "outputs": [
        {
          "output_type": "stream",
          "name": "stdout",
          "text": [
            "[1, 2, 3, 4, 5]\n",
            "[1 2 3 4 5]\n"
          ]
        }
      ],
      "source": [
        "list = [1,2,3,4,5]\n",
        "print(list)\n",
        "arr = np.array(list)\n",
        "print(arr)"
      ]
    },
    {
      "cell_type": "code",
      "source": [
        "arr = np.array([1,'a',3])\n",
        "print(arr)"
      ],
      "metadata": {
        "colab": {
          "base_uri": "https://localhost:8080/"
        },
        "id": "MRdNyiGDdm1c",
        "outputId": "a24a358f-5e82-424e-cc3a-7a68dba77ea3"
      },
      "execution_count": 6,
      "outputs": [
        {
          "output_type": "stream",
          "name": "stdout",
          "text": [
            "['1' 'a' '3']\n"
          ]
        }
      ]
    },
    {
      "cell_type": "code",
      "source": [
        "arr = np.array([1,2,0.3])\n",
        "print(arr)"
      ],
      "metadata": {
        "colab": {
          "base_uri": "https://localhost:8080/"
        },
        "id": "aWL3UnG7dvdN",
        "outputId": "692cc888-2e11-49b3-c9c9-2cb629d52b94"
      },
      "execution_count": 7,
      "outputs": [
        {
          "output_type": "stream",
          "name": "stdout",
          "text": [
            "[1.  2.  0.3]\n"
          ]
        }
      ]
    },
    {
      "cell_type": "code",
      "source": [
        "arr = np.array([1,2,3,4,5])"
      ],
      "metadata": {
        "id": "FQnuCKS5eKOz"
      },
      "execution_count": 8,
      "outputs": []
    },
    {
      "cell_type": "code",
      "source": [
        "arr[2]"
      ],
      "metadata": {
        "colab": {
          "base_uri": "https://localhost:8080/"
        },
        "id": "KPS3204teKpq",
        "outputId": "7123cc71-a2c3-4d0c-db88-571af47d0da0"
      },
      "execution_count": 9,
      "outputs": [
        {
          "output_type": "execute_result",
          "data": {
            "text/plain": [
              "3"
            ]
          },
          "metadata": {},
          "execution_count": 9
        }
      ]
    },
    {
      "cell_type": "code",
      "source": [
        "arr[-3]"
      ],
      "metadata": {
        "colab": {
          "base_uri": "https://localhost:8080/"
        },
        "id": "VNHVM0SpeMjB",
        "outputId": "266b7398-5e13-446c-84c9-d2e5dd2bb2f0"
      },
      "execution_count": 10,
      "outputs": [
        {
          "output_type": "execute_result",
          "data": {
            "text/plain": [
              "3"
            ]
          },
          "metadata": {},
          "execution_count": 10
        }
      ]
    },
    {
      "cell_type": "code",
      "source": [
        "arr = np.array([2,6,8,9,12,23,27,32,35])"
      ],
      "metadata": {
        "id": "D2EIKJHleMv6"
      },
      "execution_count": 11,
      "outputs": []
    },
    {
      "cell_type": "code",
      "source": [
        "arr[:8:2]"
      ],
      "metadata": {
        "colab": {
          "base_uri": "https://localhost:8080/"
        },
        "id": "cgBvrtc_eNLz",
        "outputId": "8d0147a9-a316-4299-9a1d-dec6c6e04d67"
      },
      "execution_count": 12,
      "outputs": [
        {
          "output_type": "execute_result",
          "data": {
            "text/plain": [
              "array([ 2,  8, 12, 27])"
            ]
          },
          "metadata": {},
          "execution_count": 12
        }
      ]
    },
    {
      "cell_type": "code",
      "source": [
        "arr[::2]"
      ],
      "metadata": {
        "colab": {
          "base_uri": "https://localhost:8080/"
        },
        "id": "4oNTrD5yeNwR",
        "outputId": "87d9b433-acd3-4c43-e725-6926650b2d92"
      },
      "execution_count": 13,
      "outputs": [
        {
          "output_type": "execute_result",
          "data": {
            "text/plain": [
              "array([ 2,  8, 12, 27, 35])"
            ]
          },
          "metadata": {},
          "execution_count": 13
        }
      ]
    },
    {
      "cell_type": "code",
      "source": [
        "arr[-1:]"
      ],
      "metadata": {
        "colab": {
          "base_uri": "https://localhost:8080/"
        },
        "id": "oUiea6HHeN95",
        "outputId": "6adcd222-c892-4d5b-f527-f02bff5388ac"
      },
      "execution_count": 14,
      "outputs": [
        {
          "output_type": "execute_result",
          "data": {
            "text/plain": [
              "array([35])"
            ]
          },
          "metadata": {},
          "execution_count": 14
        }
      ]
    },
    {
      "cell_type": "code",
      "source": [
        "arr[:-1]"
      ],
      "metadata": {
        "colab": {
          "base_uri": "https://localhost:8080/"
        },
        "id": "avcrqaD2eOJ2",
        "outputId": "400bb4eb-3e31-4d34-df4c-f30e00e8e45e"
      },
      "execution_count": 15,
      "outputs": [
        {
          "output_type": "execute_result",
          "data": {
            "text/plain": [
              "array([ 2,  6,  8,  9, 12, 23, 27, 32])"
            ]
          },
          "metadata": {},
          "execution_count": 15
        }
      ]
    },
    {
      "cell_type": "code",
      "source": [
        "arr1 = np.array([1,2,3,4,5])\n",
        "print(arr1)\n",
        "\n",
        "arr2 = np.array([[1,2],[3,4],[5,6]])\n",
        "print(arr2)\n",
        "\n",
        "print(arr1.shape)\n",
        "print(arr2.shape)"
      ],
      "metadata": {
        "colab": {
          "base_uri": "https://localhost:8080/"
        },
        "id": "Owcn8XQueOT-",
        "outputId": "f744aa14-b082-46f7-c756-d61aea59b83a"
      },
      "execution_count": 17,
      "outputs": [
        {
          "output_type": "stream",
          "name": "stdout",
          "text": [
            "[1 2 3 4 5]\n",
            "[[1 2]\n",
            " [3 4]\n",
            " [5 6]]\n",
            "(5,)\n",
            "(3, 2)\n"
          ]
        }
      ]
    },
    {
      "cell_type": "code",
      "source": [
        "np.random.random((2,3))"
      ],
      "metadata": {
        "colab": {
          "base_uri": "https://localhost:8080/"
        },
        "id": "iu9zplgJeObK",
        "outputId": "ab91f391-4225-4890-abeb-6a96727c61c1"
      },
      "execution_count": 18,
      "outputs": [
        {
          "output_type": "execute_result",
          "data": {
            "text/plain": [
              "array([[0.98865118, 0.10533526, 0.78266705],\n",
              "       [0.98798058, 0.74041625, 0.8209377 ]])"
            ]
          },
          "metadata": {},
          "execution_count": 18
        }
      ]
    },
    {
      "cell_type": "code",
      "source": [
        "np.random.randint(0, 100, size=(3,7))"
      ],
      "metadata": {
        "colab": {
          "base_uri": "https://localhost:8080/"
        },
        "id": "upavSa92hht5",
        "outputId": "686f9b45-08fb-425d-91a7-acb24f6bc41a"
      },
      "execution_count": 19,
      "outputs": [
        {
          "output_type": "execute_result",
          "data": {
            "text/plain": [
              "array([[55, 28, 25, 48, 69, 77, 48],\n",
              "       [17, 80, 27, 81, 80, 12, 90],\n",
              "       [67, 65, 42, 69, 14, 28, 46]])"
            ]
          },
          "metadata": {},
          "execution_count": 19
        }
      ]
    },
    {
      "cell_type": "code",
      "source": [
        "np.arange(1,11)"
      ],
      "metadata": {
        "colab": {
          "base_uri": "https://localhost:8080/"
        },
        "id": "EEt048FEhy2B",
        "outputId": "19434a02-f2e8-441e-8a0a-4d554ff09e6b"
      },
      "execution_count": 23,
      "outputs": [
        {
          "output_type": "execute_result",
          "data": {
            "text/plain": [
              "array([ 1,  2,  3,  4,  5,  6,  7,  8,  9, 10])"
            ]
          },
          "metadata": {},
          "execution_count": 23
        }
      ]
    },
    {
      "cell_type": "code",
      "source": [
        "np.arange(1,2,0.1)"
      ],
      "metadata": {
        "colab": {
          "base_uri": "https://localhost:8080/"
        },
        "id": "eyO2vNiFh859",
        "outputId": "348b8418-5bd7-4e12-cbd2-b7a6750710ab"
      },
      "execution_count": 22,
      "outputs": [
        {
          "output_type": "execute_result",
          "data": {
            "text/plain": [
              "array([1. , 1.1, 1.2, 1.3, 1.4, 1.5, 1.6, 1.7, 1.8, 1.9])"
            ]
          },
          "metadata": {},
          "execution_count": 22
        }
      ]
    },
    {
      "cell_type": "code",
      "source": [
        "arr1 = np.array([2,4,6,8,10])\n",
        "arr2 = np.array([5,10,15,20,25])\n",
        "result = arr1 + arr2\n",
        "print(result)"
      ],
      "metadata": {
        "colab": {
          "base_uri": "https://localhost:8080/"
        },
        "id": "H4oqXlUAiIFA",
        "outputId": "fed5e5b8-dfdb-4e6e-cf9e-da459c9538f6"
      },
      "execution_count": 25,
      "outputs": [
        {
          "output_type": "stream",
          "name": "stdout",
          "text": [
            "[ 7 14 21 28 35]\n"
          ]
        }
      ]
    },
    {
      "cell_type": "code",
      "source": [
        "arr = np.array([38,16,1,27,55,8,19])\n",
        "print(np.where(arr>20))"
      ],
      "metadata": {
        "colab": {
          "base_uri": "https://localhost:8080/"
        },
        "id": "sWkjovYliNI6",
        "outputId": "83e56e69-67ca-4796-cfaf-bb17f47f3385"
      },
      "execution_count": 26,
      "outputs": [
        {
          "output_type": "stream",
          "name": "stdout",
          "text": [
            "(array([0, 3, 4]),)\n"
          ]
        }
      ]
    },
    {
      "cell_type": "code",
      "source": [
        "arr = [8,19,16,1,55,27,28]"
      ],
      "metadata": {
        "id": "zTOtinFaiNTA"
      },
      "execution_count": null,
      "outputs": []
    },
    {
      "cell_type": "code",
      "source": [
        "np.sort(arr)"
      ],
      "metadata": {
        "colab": {
          "base_uri": "https://localhost:8080/"
        },
        "id": "KTMWki_-iNcR",
        "outputId": "8be152f3-d03e-43b1-9b6c-b52fab11ea17"
      },
      "execution_count": 27,
      "outputs": [
        {
          "output_type": "execute_result",
          "data": {
            "text/plain": [
              "array([ 1,  8, 16, 19, 27, 38, 55])"
            ]
          },
          "metadata": {},
          "execution_count": 27
        }
      ]
    },
    {
      "cell_type": "code",
      "source": [
        "np.sort(arr)[::-1]"
      ],
      "metadata": {
        "colab": {
          "base_uri": "https://localhost:8080/"
        },
        "id": "9_fKzK3NiNyt",
        "outputId": "0c7bd6e5-36c7-4fdf-ab9f-62afa21671cd"
      },
      "execution_count": 44,
      "outputs": [
        {
          "output_type": "execute_result",
          "data": {
            "text/plain": [
              "array([55, 38, 27, 19, 16,  8,  1])"
            ]
          },
          "metadata": {},
          "execution_count": 44
        }
      ]
    },
    {
      "cell_type": "code",
      "source": [
        "coffee = [87,63,64,110,144,143,69,53,133,55,78,123,63,101]\n",
        "waffle = [87,36,32,101,41,78,115,31,53,11,13,119,25,65]\n",
        "\n",
        "for i in range(14):\n",
        "  print(coffee[i]*3400, waffle[i]*6700)"
      ],
      "metadata": {
        "colab": {
          "base_uri": "https://localhost:8080/"
        },
        "id": "ZHQm9fE5iN6Q",
        "outputId": "d29dc10a-e78f-4c81-c22d-6f3adf2d8154"
      },
      "execution_count": 46,
      "outputs": [
        {
          "output_type": "stream",
          "name": "stdout",
          "text": [
            "295800 582900\n",
            "214200 241200\n",
            "217600 214400\n",
            "374000 676700\n",
            "489600 274700\n",
            "486200 522600\n",
            "234600 770500\n",
            "180200 207700\n",
            "452200 355100\n",
            "187000 73700\n",
            "265200 87100\n",
            "418200 797300\n",
            "214200 167500\n",
            "343400 435500\n"
          ]
        }
      ]
    },
    {
      "cell_type": "code",
      "source": [
        "coffee_ = sum(coffee)*3400\n",
        "waffle_ = sum(waffle)*6700\n",
        "\n",
        "print(coffee_, coffee_ / 14)\n",
        "print(waffle_, waffle_ / 14)"
      ],
      "metadata": {
        "colab": {
          "base_uri": "https://localhost:8080/"
        },
        "id": "1fLZs2LXiIS8",
        "outputId": "d5e74b8d-1add-4f3b-a20f-997de18e358f"
      },
      "execution_count": 48,
      "outputs": [
        {
          "output_type": "stream",
          "name": "stdout",
          "text": [
            "4372400 312314.28571428574\n",
            "5406900 386207.14285714284\n"
          ]
        }
      ]
    },
    {
      "cell_type": "code",
      "source": [
        "total = np.array(coffee)*3400 + np.array(waffle)*6700\n",
        "total"
      ],
      "metadata": {
        "colab": {
          "base_uri": "https://localhost:8080/"
        },
        "id": "Q9hI01-FiIVn",
        "outputId": "765767b0-3749-4c00-fe5d-5421138bb78f"
      },
      "execution_count": 51,
      "outputs": [
        {
          "output_type": "execute_result",
          "data": {
            "text/plain": [
              "array([ 878700,  455400,  432000, 1050700,  764300, 1008800, 1005100,\n",
              "        387900,  807300,  260700,  352300, 1215500,  381700,  778900])"
            ]
          },
          "metadata": {},
          "execution_count": 51
        }
      ]
    },
    {
      "cell_type": "code",
      "source": [
        "for i in np.where(total<450000):\n",
        "  print(total[i], i)"
      ],
      "metadata": {
        "colab": {
          "base_uri": "https://localhost:8080/"
        },
        "id": "y28gfiQHiIYB",
        "outputId": "8c6be24a-9456-4e20-b272-b950778ccbd9"
      },
      "execution_count": 60,
      "outputs": [
        {
          "output_type": "stream",
          "name": "stdout",
          "text": [
            "[432000 387900 260700 352300 381700] [ 2  7  9 10 12]\n"
          ]
        }
      ]
    }
  ]
}